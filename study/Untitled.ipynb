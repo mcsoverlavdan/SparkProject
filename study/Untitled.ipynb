{
 "cells": [
  {
   "cell_type": "markdown",
   "metadata": {},
   "source": [
    "Spotting Fake Reviews via Collective Positive-Unlabeled Learning\n",
    "https://drive.google.com/file/d/1-SpGBXz7vnXI_EeFrPIyLAJDUGTh6Er_/view?usp=sharing\n"
   ]
  },
  {
   "cell_type": "markdown",
   "metadata": {},
   "source": [
    "Dianipping Algorithm, \n",
    "Edited...Multi-typed Heterogeneous Collective Classification (MHCC) and then extend\n",
    "it to Collective Positive and Unlabeled learning (CPU)."
   ]
  }
 ],
 "metadata": {
  "kernelspec": {
   "display_name": "Python 3",
   "language": "python",
   "name": "python3"
  },
  "language_info": {
   "codemirror_mode": {
    "name": "ipython",
    "version": 3
   },
   "file_extension": ".py",
   "mimetype": "text/x-python",
   "name": "python",
   "nbconvert_exporter": "python",
   "pygments_lexer": "ipython3",
   "version": "3.7.4"
  }
 },
 "nbformat": 4,
 "nbformat_minor": 2
}
